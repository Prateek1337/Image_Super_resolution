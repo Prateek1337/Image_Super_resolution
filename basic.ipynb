{
  "nbformat": 4,
  "nbformat_minor": 0,
  "metadata": {
    "colab": {
      "name": "Image_super_resolution_github.ipynb",
      "provenance": [],
      "collapsed_sections": []
    },
    "kernelspec": {
      "name": "python3",
      "display_name": "Python 3"
    }
  },
  "cells": [
    {
      "cell_type": "code",
      "metadata": {
        "id": "qTLHSmW23asG",
        "colab_type": "code",
        "outputId": "e6d06e7c-3b19-4ef3-b151-fae3d39b77c5",
        "colab": {
          "base_uri": "https://localhost:8080/",
          "height": 139
        }
      },
      "source": [
        "from google.colab import drive\n",
        "drive.mount('/content/drive')\n",
        "!ls"
      ],
      "execution_count": 3,
      "outputs": [
        {
          "output_type": "stream",
          "text": [
            "Go to this URL in a browser: https://accounts.google.com/o/oauth2/auth?client_id=947318989803-6bn6qk8qdgf4n4g3pfee6491hc0brc4i.apps.googleusercontent.com&redirect_uri=urn%3aietf%3awg%3aoauth%3a2.0%3aoob&response_type=code&scope=email%20https%3a%2f%2fwww.googleapis.com%2fauth%2fdocs.test%20https%3a%2f%2fwww.googleapis.com%2fauth%2fdrive%20https%3a%2f%2fwww.googleapis.com%2fauth%2fdrive.photos.readonly%20https%3a%2f%2fwww.googleapis.com%2fauth%2fpeopleapi.readonly\n",
            "\n",
            "Enter your authorization code:\n",
            "··········\n",
            "Mounted at /content/drive\n",
            "drive  sample_data\n"
          ],
          "name": "stdout"
        }
      ]
    },
    {
      "cell_type": "code",
      "metadata": {
        "id": "zV7UDX6B3q7P",
        "colab_type": "code",
        "outputId": "13c46f9b-1991-462e-e192-e9c18d9bace2",
        "colab": {
          "base_uri": "https://localhost:8080/",
          "height": 68
        }
      },
      "source": [
        "import os \n",
        "os.chdir(\"/content/drive/My Drive/Image_super_resolution/github_implementation\")\n",
        "os.getcwd()\n",
        "!ls"
      ],
      "execution_count": 9,
      "outputs": [
        {
          "output_type": "stream",
          "text": [
            "crop_train.h5  pre2.jpg\t\t__pycache__\t    test.h5\n",
            "flower.jpg     prepare_data.py\tSRCNN_check.h5\t    test_rgb.h5\n",
            "input2.jpg     pre_rgb.jpg\tSRCNN_check_rgb.h5  train_rgb.h5\n"
          ],
          "name": "stdout"
        }
      ]
    },
    {
      "cell_type": "code",
      "metadata": {
        "id": "Zk6-ZqmZ4bTg",
        "colab_type": "code",
        "colab": {}
      },
      "source": [
        "from keras.models import Sequential\n",
        "from keras.layers import Conv2D, Input, BatchNormalization\n",
        "# from keras.layers.advanced_activations import LeakyReLU\n",
        "from keras.callbacks import ModelCheckpoint,Callback\n",
        "from keras.optimizers import SGD, Adam\n",
        "import matplotlib.pyplot as plt\n",
        "import matplotlib.image as mpimg\n",
        "import prepare_data as pd\n",
        "import numpy \n",
        "import math"
      ],
      "execution_count": 0,
      "outputs": []
    },
    {
      "cell_type": "code",
      "metadata": {
        "id": "oo6F17dLx1El",
        "colab_type": "code",
        "outputId": "fb999a63-6ce9-4b6a-ea33-353e5ad54c74",
        "colab": {
          "base_uri": "https://localhost:8080/",
          "height": 253
        }
      },
      "source": [
        "\n",
        "%matplotlib inline\n",
        "data_rgb,label_rgb=pd.read_training_data(\"test_rgb.h5\")\n",
        "print(data.shape,label.shape)\n",
        "print(data[0][0][0][0])\n",
        "data_img=data_rgb[5]\n",
        "label_img=label_rgb[5]\n",
        "data=data*255\n",
        "label=label*255\n",
        "fig,axes=plt.subplots(1,2)\n",
        "axes[0].imshow(data_img)\n",
        "axes[1].imshow(label_img)\n",
        "data_Y, label_Y = pd.read_training_data(\"./test.h5\")\n",
        "print(data_Y.shape,label_Y.shape)"
      ],
      "execution_count": 139,
      "outputs": [
        {
          "output_type": "stream",
          "text": [
            "(4083, 32, 32, 1) (4083, 20, 20, 1)\n",
            "83.0\n",
            "(420, 32, 32, 1) (420, 20, 20, 1)\n"
          ],
          "name": "stdout"
        },
        {
          "output_type": "display_data",
          "data": {
            "image/png": "[encoded data removed]",
            "text/plain": [
              "<Figure size 432x288 with 2 Axes>"
            ]
          },
          "metadata": {
            "tags": []
          }
        }
      ]
    },
    {
      "cell_type": "code",
      "metadata": {
        "id": "CzafFwFK6wiP",
        "colab_type": "code",
        "colab": {}
      },
      "source": [
        "def psnr(target, ref):\n",
        "    mse = numpy.mean( (target - ref) ** 2 )\n",
        "    PIXEL_MAX = 255.0\n",
        "    if mse == 0:\n",
        "        return 100\n",
        "    return 20 * math.log10(PIXEL_MAX / math.sqrt(mse))"
      ],
      "execution_count": 0,
      "outputs": []
    },
    {
      "cell_type": "code",
      "metadata": {
        "id": "1g-jFwan61pN",
        "colab_type": "code",
        "colab": {}
      },
      "source": [
        "def model():\n",
        "    # lrelu = LeakyReLU(alpha=0.1)\n",
        "    SRCNN = Sequential()\n",
        "    SRCNN.add(Conv2D(nb_filter=128, nb_row=9, nb_col=9, init='glorot_uniform',\n",
        "                     activation='relu', border_mode='valid', bias=True, input_shape=(32, 32, 1)))\n",
        "    SRCNN.add(Conv2D(nb_filter=64, nb_row=3, nb_col=3, init='glorot_uniform',\n",
        "                     activation='relu', border_mode='same', bias=True))\n",
        "    # SRCNN.add(BatchNormalization())\n",
        "    SRCNN.add(Conv2D(nb_filter=1, nb_row=5, nb_col=5, init='glorot_uniform',\n",
        "                     activation='linear', border_mode='valid', bias=True))\n",
        "    adam = Adam(lr=0.0003)\n",
        "    SRCNN.compile(optimizer=adam, loss='mean_squared_error', metrics=['mean_squared_error'])\n",
        "    return SRCNN\n",
        "\n",
        "\n",
        "def predict_model():\n",
        "    # lrelu = LeakyReLU(alpha=0.1)\n",
        "    SRCNN = Sequential()\n",
        "    SRCNN.add(Conv2D(nb_filter=128, nb_row=9, nb_col=9, init='glorot_uniform',\n",
        "                     activation='relu', border_mode='valid', bias=True, input_shape=(None, None, 1)))\n",
        "    SRCNN.add(Conv2D(nb_filter=64, nb_row=3, nb_col=3, init='glorot_uniform',\n",
        "                     activation='relu', border_mode='same', bias=True))\n",
        "    # SRCNN.add(BatchNormalization())\n",
        "    SRCNN.add(Conv2D(nb_filter=1, nb_row=5, nb_col=5, init='glorot_uniform',\n",
        "                     activation='linear', border_mode='valid', bias=True))\n",
        "    adam = Adam(lr=0.0003)\n",
        "    SRCNN.compile(optimizer=adam, loss='mean_squared_error', metrics=['mean_squared_error'])\n",
        "    return SRCNN\n",
        "\n",
        "class PsnrHistory_Y(Callback):\n",
        "    def on_train_begin(self, logs={}):\n",
        "        self.psnrs = []\n",
        "        \n",
        "    def on_epoch_end(self, epoch, logs={}):\n",
        "        srcnn_model = predict_model()\n",
        "        srcnn_model.load_weights(\"SRCNN_check.h5\")\n",
        "        avg_psnr=0.0\n",
        "        import cv2\n",
        "        for i in range(0,data_Y.shape[0]):\n",
        "            img=data_Y[i]\n",
        "            Y = numpy.zeros((1, img.shape[0], img.shape[1], 1), dtype=float)\n",
        "            Y[0, :, :, :] = img\n",
        "            pre = srcnn_model.predict(Y, batch_size=1) * 255.\n",
        "            pre[pre[:] > 255] = 255\n",
        "            pre[pre[:] < 0] = 0\n",
        "            img_pre=pre[0,:,:,:]\n",
        "            avg_psnr=avg_psnr+psnr(label_Y[i]*255, img_pre)\n",
        "\n",
        "        avg_psnr=(avg_psnr/data_rgb.shape[0])\n",
        "        # avg_psnr2=0.0\n",
        "        # for i in range(0,data_rgb.shape[0]):\n",
        "        #     img = cv2.cvtColor(data_rgb[i], cv2.COLOR_BGR2YCrCb)\n",
        "        #     Y_img=data_Y[i]\n",
        "        #     Y = numpy.zeros((1, img.shape[0], img.shape[1], 1), dtype=float)\n",
        "        #     Y[0, :, :, :] = Y_img\n",
        "        #     pre = srcnn_model.predict(Y, batch_size=1) * 255.\n",
        "        #     pre[pre[:] > 255] = 255\n",
        "        #     pre[pre[:] < 0] = 0\n",
        "        #     img=img[6: -6, 6: -6,:]\n",
        "        #     img[:,:,0]=pre[0,:,:,0]\n",
        "        #     img=cv2.cvtColor(img, cv2.COLOR_YCrCb2BGR)\n",
        "        #     avg_psnr2=avg_psnr2+psnr(label_rgb[i]*255, img)\n",
        "        \n",
        "        # avg_psnr2=(avg_psnr2/data_rgb.shape[0])\n",
        "        \n",
        "        self.psnrs.append((avg_psnr))\n",
        "\n",
        "\n",
        "def train(history):\n",
        "    srcnn_model = model()\n",
        "    print(srcnn_model.summary())\n",
        "    data, label = pd.read_training_data(\"./crop_train.h5\")\n",
        "    val_data, val_label = pd.read_training_data(\"./test.h5\")\n",
        "\n",
        "    checkpoint = ModelCheckpoint(\"SRCNN_check.h5\", monitor='val_loss', verbose=1, save_best_only=True,\n",
        "                                 save_weights_only=False, mode='min')\n",
        "    callbacks_list = [checkpoint,history]\n",
        "\n",
        "    srcnn_model.fit(data, label, batch_size=128, validation_data=(val_data, val_label),\n",
        "                    callbacks=callbacks_list, shuffle=True, nb_epoch=20, verbose=0)\n",
        "    # srcnn_model.load_weights(\"m_model_adam.h5\")"
      ],
      "execution_count": 0,
      "outputs": []
    },
    {
      "cell_type": "code",
      "metadata": {
        "id": "-UKuNV-s69im",
        "colab_type": "code",
        "colab": {}
      },
      "source": [
        "def predict():\n",
        "    srcnn_model = predict_model()\n",
        "    srcnn_model.load_weights(\"SRCNN_check.h5\")\n",
        "    IMG_NAME = \"flower.png\"\n",
        "    INPUT_NAME = \"input2.png\"\n",
        "    OUTPUT_NAME = \"pre2.png\"\n",
        "\n",
        "    import cv2\n",
        "    img = cv2.imread(IMG_NAME, cv2.IMREAD_COLOR)\n",
        "    img = cv2.cvtColor(img, cv2.COLOR_BGR2YCrCb)\n",
        "    shape = img.shape\n",
        "    Y_img = cv2.resize(img[:, :, 0], (int(shape[1] / 2), int(shape[0] / 2)), cv2.INTER_CUBIC)\n",
        "    Y_img = cv2.resize(Y_img, (shape[1], shape[0]), cv2.INTER_CUBIC)\n",
        "    print(img.shape,Y_img.shape)\n",
        "    img[:, :, 0] = Y_img\n",
        "    Y_img=img[:,:,0]\n",
        "    img = cv2.cvtColor(img, cv2.COLOR_YCrCb2BGR)\n",
        "    cv2.imwrite(INPUT_NAME, img)\n",
        "\n",
        "    Y = numpy.zeros((1, img.shape[0], img.shape[1], 1), dtype=float)\n",
        "    Y[0, :, :, 0] = Y_img.astype(float) / 255.\n",
        "    pre = srcnn_model.predict(Y, batch_size=1) * 255.\n",
        "    print(pre.shape)\n",
        "    pre[pre[:] > 255] = 255\n",
        "    pre[pre[:] < 0] = 0\n",
        "    pre = pre.astype(numpy.uint8)\n",
        "    img = cv2.cvtColor(img, cv2.COLOR_BGR2YCrCb)\n",
        "    img[6: -6, 6: -6, 0] = pre[0, :, :, 0]\n",
        "    img = cv2.cvtColor(img, cv2.COLOR_YCrCb2BGR)\n",
        "    print(img.shape)\n",
        "    cv2.imwrite(OUTPUT_NAME, img)\n",
        "\n",
        "    # psnr calculation:\n",
        "    im1_rgb = cv2.imread(IMG_NAME, cv2.IMREAD_COLOR)[6: -6, 6: -6, :]\n",
        "    im1_Y = cv2.cvtColor(im1_rgb, cv2.COLOR_BGR2YCrCb)\n",
        "    im2_rgb = cv2.imread(INPUT_NAME, cv2.IMREAD_COLOR)[6: -6, 6: -6, :]\n",
        "    im2_Y = cv2.cvtColor(im2_rgb, cv2.COLOR_BGR2YCrCb)\n",
        "    im3_rgb = cv2.imread(OUTPUT_NAME, cv2.IMREAD_COLOR)[6: -6, 6: -6, :]\n",
        "    im3_Y = cv2.cvtColor(im3_rgb, cv2.COLOR_BGR2YCrCb)\n",
        "    print(im3_Y.shape,im1_Y.shape)\n",
        "    print(\"bicubic:\")\n",
        "    print(\"YCrCCb= {} , RGB={}\".format(psnr(im1_Y[:,:,0],im2_Y[:,:,0]),psnr(im1_rgb,im2_rgb)))\n",
        "    print(\"SRCNN:\")\n",
        "    print(\"YCrCCb= {} , RGB={}\".format(psnr(im1_Y[:,:,0],im3_Y[:,:,0]),psnr(im1_rgb,im3_rgb)))\n",
        "\n",
        "    # srcnn_model = predict_model()\n",
        "    # srcnn_model.load_weights(\"SRCNN_check.h5\")\n",
        "    # avg_psnr=0.0\n",
        "    # for i in range(0,data_Y.shape[0]):\n",
        "    #     img=data_Y[i]\n",
        "    #     Y = numpy.zeros((1, img.shape[0], img.shape[1], 1), dtype=float)\n",
        "    #     Y[0, :, :, :] = img\n",
        "    #     pre = srcnn_model.predict(Y, batch_size=1) * 255.\n",
        "    #     pre[pre[:] > 255] = 255\n",
        "    #     pre[pre[:] < 0] = 0\n",
        "    #     img_pre=pre[0,:,:,:]\n",
        "    #     avg_psnr=avg_psnr+psnr(label_Y[i]*255, img_pre)\n",
        "\n",
        "    # avg_psnr=(avg_psnr/data_rgb.shape[0])\n",
        "    # print(avg_psnr)"
      ],
      "execution_count": 0,
      "outputs": []
    },
    {
      "cell_type": "code",
      "metadata": {
        "id": "G0EjckXcwdTG",
        "colab_type": "code",
        "colab": {
          "base_uri": "https://localhost:8080/",
          "height": 1159
        },
        "outputId": "18466493-f2fe-4f4e-cb17-8ec9da4285b3"
      },
      "source": [
        "history_Y=PsnrHistory_Y()\n",
        "train(history_Y)\n",
        "print(history_Y.psnrs)"
      ],
      "execution_count": 189,
      "outputs": [
        {
          "output_type": "stream",
          "text": [
            "/usr/local/lib/python3.6/dist-packages/ipykernel_launcher.py:5: UserWarning: Update your `Conv2D` call to the Keras 2 API: `Conv2D(activation=\"relu\", input_shape=(32, 32, 1..., kernel_size=(9, 9), filters=128, padding=\"valid\", kernel_initializer=\"glorot_uniform\", use_bias=True)`\n",
            "  \"\"\"\n",
            "/usr/local/lib/python3.6/dist-packages/ipykernel_launcher.py:7: UserWarning: Update your `Conv2D` call to the Keras 2 API: `Conv2D(activation=\"relu\", kernel_size=(3, 3), filters=64, padding=\"same\", kernel_initializer=\"glorot_uniform\", use_bias=True)`\n",
            "  import sys\n",
            "/usr/local/lib/python3.6/dist-packages/ipykernel_launcher.py:10: UserWarning: Update your `Conv2D` call to the Keras 2 API: `Conv2D(activation=\"linear\", kernel_size=(5, 5), filters=1, padding=\"valid\", kernel_initializer=\"glorot_uniform\", use_bias=True)`\n",
            "  # Remove the CWD from sys.path while we load stuff.\n",
            "/usr/local/lib/python3.6/dist-packages/ipykernel_launcher.py:80: UserWarning: The `nb_epoch` argument in `fit` has been renamed `epochs`.\n"
          ],
          "name": "stderr"
        },
        {
          "output_type": "stream",
          "text": [
            "Model: \"sequential_154\"\n",
            "_________________________________________________________________\n",
            "Layer (type)                 Output Shape              Param #   \n",
            "=================================================================\n",
            "conv2d_460 (Conv2D)          (None, 24, 24, 128)       10496     \n",
            "_________________________________________________________________\n",
            "conv2d_461 (Conv2D)          (None, 24, 24, 64)        73792     \n",
            "_________________________________________________________________\n",
            "conv2d_462 (Conv2D)          (None, 20, 20, 1)         1601      \n",
            "=================================================================\n",
            "Total params: 85,889\n",
            "Trainable params: 85,889\n",
            "Non-trainable params: 0\n",
            "_________________________________________________________________\n",
            "None\n",
            "\n",
            "Epoch 00001: val_loss improved from inf to 0.00738, saving model to SRCNN_check.h5\n"
          ],
          "name": "stdout"
        },
        {
          "output_type": "stream",
          "text": [
            "/usr/local/lib/python3.6/dist-packages/ipykernel_launcher.py:20: UserWarning: Update your `Conv2D` call to the Keras 2 API: `Conv2D(activation=\"relu\", input_shape=(None, Non..., kernel_size=(9, 9), filters=128, padding=\"valid\", kernel_initializer=\"glorot_uniform\", use_bias=True)`\n",
            "/usr/local/lib/python3.6/dist-packages/ipykernel_launcher.py:22: UserWarning: Update your `Conv2D` call to the Keras 2 API: `Conv2D(activation=\"relu\", kernel_size=(3, 3), filters=64, padding=\"same\", kernel_initializer=\"glorot_uniform\", use_bias=True)`\n",
            "/usr/local/lib/python3.6/dist-packages/ipykernel_launcher.py:25: UserWarning: Update your `Conv2D` call to the Keras 2 API: `Conv2D(activation=\"linear\", kernel_size=(5, 5), filters=1, padding=\"valid\", kernel_initializer=\"glorot_uniform\", use_bias=True)`\n"
          ],
          "name": "stderr"
        },
        {
          "output_type": "stream",
          "text": [
            "\n",
            "Epoch 00002: val_loss improved from 0.00738 to 0.00417, saving model to SRCNN_check.h5\n",
            "\n",
            "Epoch 00003: val_loss improved from 0.00417 to 0.00315, saving model to SRCNN_check.h5\n",
            "\n",
            "Epoch 00004: val_loss improved from 0.00315 to 0.00265, saving model to SRCNN_check.h5\n",
            "\n",
            "Epoch 00005: val_loss improved from 0.00265 to 0.00237, saving model to SRCNN_check.h5\n",
            "\n",
            "Epoch 00006: val_loss improved from 0.00237 to 0.00222, saving model to SRCNN_check.h5\n",
            "\n",
            "Epoch 00007: val_loss improved from 0.00222 to 0.00210, saving model to SRCNN_check.h5\n",
            "\n",
            "Epoch 00008: val_loss improved from 0.00210 to 0.00202, saving model to SRCNN_check.h5\n",
            "\n",
            "Epoch 00009: val_loss improved from 0.00202 to 0.00201, saving model to SRCNN_check.h5\n",
            "\n",
            "Epoch 00010: val_loss improved from 0.00201 to 0.00195, saving model to SRCNN_check.h5\n",
            "\n",
            "Epoch 00011: val_loss did not improve from 0.00195\n",
            "\n",
            "Epoch 00012: val_loss improved from 0.00195 to 0.00191, saving model to SRCNN_check.h5\n",
            "\n",
            "Epoch 00013: val_loss improved from 0.00191 to 0.00189, saving model to SRCNN_check.h5\n",
            "\n",
            "Epoch 00014: val_loss improved from 0.00189 to 0.00188, saving model to SRCNN_check.h5\n",
            "\n",
            "Epoch 00015: val_loss improved from 0.00188 to 0.00186, saving model to SRCNN_check.h5\n",
            "\n",
            "Epoch 00016: val_loss did not improve from 0.00186\n",
            "\n",
            "Epoch 00017: val_loss improved from 0.00186 to 0.00184, saving model to SRCNN_check.h5\n",
            "\n",
            "Epoch 00018: val_loss improved from 0.00184 to 0.00183, saving model to SRCNN_check.h5\n",
            "\n",
            "Epoch 00019: val_loss improved from 0.00183 to 0.00183, saving model to SRCNN_check.h5\n",
            "\n",
            "Epoch 00020: val_loss improved from 0.00183 to 0.00182, saving model to SRCNN_check.h5\n",
            "[24.4731934827105, 27.793454270239536, 29.14313286634138, 29.941588982348396, 30.80665296695036, 30.736880884246148, 31.188810082331255, 31.43273100423112, 31.030985663040394, 31.577366631291273, 31.577366631291273, 31.893522585551914, 31.875108684411746, 31.898183555490906, 31.9541851304531, 31.9541851304531, 32.033924283781126, 32.0354016707506, 31.855526727225886, 31.873456331941014]\n"
          ],
          "name": "stdout"
        }
      ]
    },
    {
      "cell_type": "code",
      "metadata": {
        "id": "87FeW85u8L7c",
        "colab_type": "code",
        "colab": {
          "base_uri": "https://localhost:8080/",
          "height": 336
        },
        "outputId": "319479f9-d792-42d2-e08f-773d3ef9701f"
      },
      "source": [
        "print(history_Y.psnrs)\n",
        "x=numpy.linspace(1,len(history_Y.psnrs),len(history_Y.psnrs))\n",
        "y = numpy.asarray(history_Y.psnrs, dtype=numpy.float32)\n",
        "print(x.shape,y.shape)\n",
        "plt.plot(x,history_Y.psnrs)"
      ],
      "execution_count": 190,
      "outputs": [
        {
          "output_type": "stream",
          "text": [
            "[24.4731934827105, 27.793454270239536, 29.14313286634138, 29.941588982348396, 30.80665296695036, 30.736880884246148, 31.188810082331255, 31.43273100423112, 31.030985663040394, 31.577366631291273, 31.577366631291273, 31.893522585551914, 31.875108684411746, 31.898183555490906, 31.9541851304531, 31.9541851304531, 32.033924283781126, 32.0354016707506, 31.855526727225886, 31.873456331941014]\n",
            "(20,) (20,)\n"
          ],
          "name": "stdout"
        },
        {
          "output_type": "execute_result",
          "data": {
            "text/plain": [
              "[<matplotlib.lines.Line2D at 0x7fb14629d550>]"
            ]
          },
          "metadata": {
            "tags": []
          },
          "execution_count": 190
        },
        {
          "output_type": "display_data",
          "data": {
            "image/png": "[encoded data removed]",
            "text/plain": [
              "<Figure size 432x288 with 1 Axes>"
            ]
          },
          "metadata": {
            "tags": []
          }
        }
      ]
    },
    {
      "cell_type": "code",
      "metadata": {
        "id": "58XNJ9mMDjF8",
        "colab_type": "code",
        "outputId": "bc2afdf1-346b-4bc0-c9d8-01736a26cebe",
        "colab": {
          "base_uri": "https://localhost:8080/",
          "height": 224
        }
      },
      "source": [
        "predict()"
      ],
      "execution_count": 213,
      "outputs": [
        {
          "output_type": "stream",
          "text": [
            "/usr/local/lib/python3.6/dist-packages/ipykernel_launcher.py:20: UserWarning: Update your `Conv2D` call to the Keras 2 API: `Conv2D(activation=\"relu\", input_shape=(None, Non..., kernel_size=(9, 9), filters=128, padding=\"valid\", kernel_initializer=\"glorot_uniform\", use_bias=True)`\n",
            "/usr/local/lib/python3.6/dist-packages/ipykernel_launcher.py:22: UserWarning: Update your `Conv2D` call to the Keras 2 API: `Conv2D(activation=\"relu\", kernel_size=(3, 3), filters=64, padding=\"same\", kernel_initializer=\"glorot_uniform\", use_bias=True)`\n",
            "/usr/local/lib/python3.6/dist-packages/ipykernel_launcher.py:25: UserWarning: Update your `Conv2D` call to the Keras 2 API: `Conv2D(activation=\"linear\", kernel_size=(5, 5), filters=1, padding=\"valid\", kernel_initializer=\"glorot_uniform\", use_bias=True)`\n"
          ],
          "name": "stderr"
        },
        {
          "output_type": "stream",
          "text": [
            "(276, 276, 3) (276, 276)\n",
            "(1, 264, 264, 1)\n",
            "(276, 276, 3)\n",
            "(264, 264, 3) (264, 264, 3)\n",
            "bicubic:\n",
            "YCrCCb= 33.58214074570319 , RGB=33.57164752219919\n",
            "SRCNN:\n",
            "YCrCCb= 34.15214136681098 , RGB=34.11180665939298\n"
          ],
          "name": "stdout"
        }
      ]
    },
    {
      "cell_type": "code",
      "metadata": {
        "id": "MXCPYnz3Kxx-",
        "colab_type": "code",
        "colab": {}
      },
      "source": [
        "\n",
        "def predict_model_rgb():\n",
        "    SRCNN = Sequential()\n",
        "    SRCNN.add(Conv2D(filters=128, kernel_size=(9,9), kernel_initializer='glorot_uniform',\n",
        "                     activation='relu', padding='valid', use_bias=True, input_shape=(None, None, 3)))\n",
        "    SRCNN.add(Conv2D(filters=64, kernel_size=(3,3), kernel_initializer='glorot_uniform',\n",
        "                     activation='relu', padding='same', use_bias=True))\n",
        "    SRCNN.add(Conv2D(filters=3, kernel_size=(5,5), kernel_initializer='glorot_uniform',\n",
        "                     activation='linear', padding='valid', use_bias=True))\n",
        "    adam = Adam(lr=0.0003)\n",
        "    SRCNN.compile(optimizer=adam, loss='mean_squared_error', metrics=['mean_squared_error'])\n",
        "    return SRCNN\n",
        "\n",
        "\n",
        "def model_rgb():\n",
        "    SRCNN = Sequential()\n",
        "    SRCNN.add(Conv2D(filters=128, kernel_size=(9,9), kernel_initializer='glorot_uniform',\n",
        "                     activation='relu', padding='valid', use_bias=True, input_shape=(32, 32, 3)))\n",
        "    SRCNN.add(Conv2D(filters=64, kernel_size=(3,3), kernel_initializer='glorot_uniform',\n",
        "                     activation='relu', padding='same', use_bias=True))\n",
        "    SRCNN.add(Conv2D(filters=3, kernel_size=(5,5), kernel_initializer='glorot_uniform',\n",
        "                     activation='linear', padding='valid', use_bias=True))\n",
        "    adam = Adam(lr=0.0003)\n",
        "    SRCNN.compile(optimizer=adam, loss='mean_squared_error', metrics=['mean_squared_error'])\n",
        "    return SRCNN\n",
        "\n",
        "class PsnrHistory(Callback):\n",
        "    def on_train_begin(self, logs={}):\n",
        "        self.psnrs = []\n",
        "        \n",
        "    def on_epoch_end(self, epoch, logs={}):\n",
        "        rmse = math.sqrt(logs['val_loss'])\n",
        "        psnr2=20 * math.log10(1/rmse)\n",
        "        srcnn_model = predict_model_rgb()\n",
        "        srcnn_model.load_weights(\"SRCNN_check_rgb.h5\")\n",
        "        avg_psnr=0.0\n",
        "        for i in range(0,data_rgb.shape[0]):\n",
        "            img=data_rgb[i]\n",
        "            Y = numpy.zeros((1, img.shape[0], img.shape[1], 3), dtype=float)\n",
        "            Y[0, :, :, :] = img\n",
        "            pre = srcnn_model.predict(Y, batch_size=1) * 255.\n",
        "            pre[pre[:] > 255] = 255\n",
        "            pre[pre[:] < 0] = 0\n",
        "            img_pre=pre[0,:,:,:]\n",
        "            avg_psnr=avg_psnr+psnr(label_rgb[i]*255, img_pre)\n",
        "        \n",
        "        avg_psnr=(avg_psnr/data_rgb.shape[0])\n",
        "        self.psnrs.append(avg_psnr)\n",
        "\n",
        "def train_rgb(history):\n",
        "    srcnn_model = model_rgb()\n",
        "    print(srcnn_model.summary())\n",
        "    data, label = pd.read_training_data(\"./train_rgb.h5\")\n",
        "    val_data, val_label = pd.read_training_data(\"./test_rgb.h5\")\n",
        "\n",
        "    checkpoint = ModelCheckpoint(\"SRCNN_check_rgb.h5\", monitor='val_loss', verbose=1, save_best_only=True,\n",
        "                                 save_weights_only=False, mode='min')\n",
        "    callbacks_list = [checkpoint,history]\n",
        "\n",
        "    srcnn_model.fit(data, label, batch_size=128, validation_data=(val_data, val_label),\n",
        "                    callbacks=callbacks_list, shuffle=True, epochs=20, verbose=0)\n",
        "    return history\n",
        "    # srcnn_model.load_weights(\"m_model_adam.h5\")\n"
      ],
      "execution_count": 0,
      "outputs": []
    },
    {
      "cell_type": "code",
      "metadata": {
        "id": "Wgk_4B4Lm90L",
        "colab_type": "code",
        "outputId": "9377f52a-e905-4f9c-9c0a-38a36fceeb53",
        "colab": {
          "base_uri": "https://localhost:8080/",
          "height": 989
        }
      },
      "source": [
        "history=PsnrHistory()\n",
        "train_rgb(history)\n",
        "print(history.psnrs)"
      ],
      "execution_count": 193,
      "outputs": [
        {
          "output_type": "stream",
          "text": [
            "Model: \"sequential_176\"\n",
            "_________________________________________________________________\n",
            "Layer (type)                 Output Shape              Param #   \n",
            "=================================================================\n",
            "conv2d_526 (Conv2D)          (None, 24, 24, 128)       31232     \n",
            "_________________________________________________________________\n",
            "conv2d_527 (Conv2D)          (None, 24, 24, 64)        73792     \n",
            "_________________________________________________________________\n",
            "conv2d_528 (Conv2D)          (None, 20, 20, 3)         4803      \n",
            "=================================================================\n",
            "Total params: 109,827\n",
            "Trainable params: 109,827\n",
            "Non-trainable params: 0\n",
            "_________________________________________________________________\n",
            "None\n",
            "\n",
            "Epoch 00001: val_loss improved from inf to 0.00969, saving model to SRCNN_check_rgb.h5\n",
            "\n",
            "Epoch 00002: val_loss improved from 0.00969 to 0.00536, saving model to SRCNN_check_rgb.h5\n",
            "\n",
            "Epoch 00003: val_loss improved from 0.00536 to 0.00402, saving model to SRCNN_check_rgb.h5\n",
            "\n",
            "Epoch 00004: val_loss improved from 0.00402 to 0.00347, saving model to SRCNN_check_rgb.h5\n",
            "\n",
            "Epoch 00005: val_loss improved from 0.00347 to 0.00310, saving model to SRCNN_check_rgb.h5\n",
            "\n",
            "Epoch 00006: val_loss improved from 0.00310 to 0.00288, saving model to SRCNN_check_rgb.h5\n",
            "\n",
            "Epoch 00007: val_loss improved from 0.00288 to 0.00275, saving model to SRCNN_check_rgb.h5\n",
            "\n",
            "Epoch 00008: val_loss improved from 0.00275 to 0.00270, saving model to SRCNN_check_rgb.h5\n",
            "\n",
            "Epoch 00009: val_loss improved from 0.00270 to 0.00249, saving model to SRCNN_check_rgb.h5\n",
            "\n",
            "Epoch 00010: val_loss improved from 0.00249 to 0.00241, saving model to SRCNN_check_rgb.h5\n",
            "\n",
            "Epoch 00011: val_loss improved from 0.00241 to 0.00232, saving model to SRCNN_check_rgb.h5\n",
            "\n",
            "Epoch 00012: val_loss improved from 0.00232 to 0.00228, saving model to SRCNN_check_rgb.h5\n",
            "\n",
            "Epoch 00013: val_loss improved from 0.00228 to 0.00220, saving model to SRCNN_check_rgb.h5\n",
            "\n",
            "Epoch 00014: val_loss improved from 0.00220 to 0.00217, saving model to SRCNN_check_rgb.h5\n",
            "\n",
            "Epoch 00015: val_loss improved from 0.00217 to 0.00211, saving model to SRCNN_check_rgb.h5\n",
            "\n",
            "Epoch 00016: val_loss improved from 0.00211 to 0.00210, saving model to SRCNN_check_rgb.h5\n",
            "\n",
            "Epoch 00017: val_loss did not improve from 0.00210\n",
            "\n",
            "Epoch 00018: val_loss improved from 0.00210 to 0.00204, saving model to SRCNN_check_rgb.h5\n",
            "\n",
            "Epoch 00019: val_loss improved from 0.00204 to 0.00204, saving model to SRCNN_check_rgb.h5\n",
            "\n",
            "Epoch 00020: val_loss improved from 0.00204 to 0.00203, saving model to SRCNN_check_rgb.h5\n",
            "[22.109002782387293, 25.948106603722053, 27.438752078114597, 28.005991542947932, 28.764151133702015, 29.168372201536947, 29.31588765003348, 29.255593170178784, 29.995164950885982, 30.08758984916471, 30.186229182372852, 30.19890304840734, 30.467734257610353, 30.430116796391967, 30.56293988851693, 30.697628418343818, 30.697628418343818, 30.987388482581977, 30.76002956408116, 30.64541008370373]\n"
          ],
          "name": "stdout"
        }
      ]
    },
    {
      "cell_type": "code",
      "metadata": {
        "id": "ChaRMznRAtgt",
        "colab_type": "code",
        "colab": {}
      },
      "source": [
        "def predict_rgb():\n",
        "    srcnn_model = predict_model_rgb()\n",
        "    srcnn_model.load_weights(\"SRCNN_check_rgb.h5\")\n",
        "    IMG_NAME = \"flower.png\"\n",
        "    INPUT_NAME = \"input2_rgb.png\"\n",
        "    OUTPUT_NAME = \"pre_rgb.png\"\n",
        "\n",
        "    import cv2\n",
        "    img = cv2.imread(IMG_NAME, cv2.IMREAD_COLOR)\n",
        "    shape = img.shape\n",
        "    Y_img = cv2.resize(img[:, :, :], (int(shape[1] / 2), int(shape[0] / 2)), cv2.INTER_CUBIC)\n",
        "    Y_img = cv2.resize(Y_img, (shape[1], shape[0]), cv2.INTER_CUBIC)\n",
        "    img=Y_img\n",
        "    print(Y_img.shape)\n",
        "    cv2.imwrite(INPUT_NAME, Y_img)\n",
        "\n",
        "    Y = numpy.zeros((1, img.shape[0], img.shape[1], 3), dtype=float)\n",
        "    Y[0, :, :, :] = Y_img.astype(float) / 255.\n",
        "    pre = srcnn_model.predict(Y, batch_size=1) * 255.\n",
        "    pre[pre[:] > 255] = 255\n",
        "    pre[pre[:] < 0] = 0\n",
        "    pre = pre.astype(numpy.uint8)\n",
        "    img[6: -6, 6: -6,:]=pre[0,:,:,:]\n",
        "    print(img.shape)\n",
        "    cv2.imwrite(OUTPUT_NAME, img)\n",
        "\n",
        "\n",
        "    # psnr calculation:\n",
        "    im1_rgb = cv2.imread(IMG_NAME, cv2.IMREAD_COLOR)[6: -6, 6: -6]\n",
        "    im1_Y = cv2.cvtColor(im1_rgb, cv2.COLOR_BGR2YCrCb)\n",
        "    im2_rgb = cv2.imread(INPUT_NAME, cv2.IMREAD_COLOR)[6: -6, 6: -6]\n",
        "    im2_Y = cv2.cvtColor(im2_rgb, cv2.COLOR_BGR2YCrCb)\n",
        "    im3_rgb = cv2.imread(OUTPUT_NAME, cv2.IMREAD_COLOR)[6: -6, 6: -6]\n",
        "    im3_Y = cv2.cvtColor(im3_rgb, cv2.COLOR_BGR2YCrCb)\n",
        "\n",
        "    print(im1_Y.shape,im2_Y.shape)\n",
        "    print(\"bicubic:\")\n",
        "    print(\"YCrCCb= {} , RGB={}\".format(psnr(im1_Y[:,:,0],im2_Y[:,:,0]),psnr(im1_rgb,im2_rgb)))\n",
        "    print(\"SRCNN:\")\n",
        "    print(\"YCrCCb= {} , RGB={}\".format(psnr(im1_Y[:,:,0],im3_Y[:,:,0]),psnr(im1_rgb,im3_rgb)))"
      ],
      "execution_count": 0,
      "outputs": []
    },
    {
      "cell_type": "code",
      "metadata": {
        "id": "hKLiD2UAHALF",
        "colab_type": "code",
        "colab": {
          "base_uri": "https://localhost:8080/",
          "height": 299
        },
        "outputId": "aa5e40d8-de87-411b-fdbd-68b2ca0121bc"
      },
      "source": [
        "x=numpy.linspace(1,len(history.psnrs),len(history.psnrs))\n",
        "y = numpy.asarray(history.psnrs, dtype=numpy.float32)\n",
        "print(x[0],y.shape)\n",
        "plt.plot(x,history.psnrs)"
      ],
      "execution_count": 194,
      "outputs": [
        {
          "output_type": "stream",
          "text": [
            "1.0 (20,)\n"
          ],
          "name": "stdout"
        },
        {
          "output_type": "execute_result",
          "data": {
            "text/plain": [
              "[<matplotlib.lines.Line2D at 0x7fb145bb83c8>]"
            ]
          },
          "metadata": {
            "tags": []
          },
          "execution_count": 194
        },
        {
          "output_type": "display_data",
          "data": {
            "image/png": "[encoded data removed]",
            "text/plain": [
              "<Figure size 432x288 with 1 Axes>"
            ]
          },
          "metadata": {
            "tags": []
          }
        }
      ]
    },
    {
      "cell_type": "code",
      "metadata": {
        "id": "nc6-ayWYUpAI",
        "colab_type": "code",
        "colab": {
          "base_uri": "https://localhost:8080/",
          "height": 136
        },
        "outputId": "c773476f-9d83-4d50-bc73-a8c7cc8af076"
      },
      "source": [
        "predict_rgb()\n",
        "\n"
      ],
      "execution_count": 217,
      "outputs": [
        {
          "output_type": "stream",
          "text": [
            "(276, 276, 3)\n",
            "(276, 276, 3)\n",
            "(264, 264, 3) (264, 264, 3)\n",
            "bicubic:\n",
            "YCrCCb= 33.577765973062625 , RGB=32.56036165104796\n",
            "SRCNN:\n",
            "YCrCCb= 33.87933062993204 , RGB=32.57475283303932\n"
          ],
          "name": "stdout"
        }
      ]
    },
    {
      "cell_type": "code",
      "metadata": {
        "id": "q5z7uMHHUrtN",
        "colab_type": "code",
        "colab": {}
      },
      "source": [
        ""
      ],
      "execution_count": 0,
      "outputs": []
    }
  ]
}