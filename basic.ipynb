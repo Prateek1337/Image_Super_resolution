{
 "cells": [
  {
   "cell_type": "code",
   "execution_count": 1,
   "metadata": {
    "colab": {
     "base_uri": "https://localhost:8080/",
     "height": 139
    },
    "colab_type": "code",
    "id": "qTLHSmW23asG",
    "outputId": "fec6683f-1103-4d40-aa6a-7c373eab9c42"
   },
   "outputs": [
    {
     "name": "stdout",
     "output_type": "stream",
     "text": [
      "Go to this URL in a browser: https://accounts.google.com/o/oauth2/auth?client_id=947318989803-6bn6qk8qdgf4n4g3pfee6491hc0brc4i.apps.googleusercontent.com&redirect_uri=urn%3aietf%3awg%3aoauth%3a2.0%3aoob&response_type=code&scope=email%20https%3a%2f%2fwww.googleapis.com%2fauth%2fdocs.test%20https%3a%2f%2fwww.googleapis.com%2fauth%2fdrive%20https%3a%2f%2fwww.googleapis.com%2fauth%2fdrive.photos.readonly%20https%3a%2f%2fwww.googleapis.com%2fauth%2fpeopleapi.readonly\n",
      "\n",
      "Enter your authorization code:\n",
      "··········\n",
      "Mounted at /content/drive\n",
      "drive  sample_data\n"
     ]
    }
   ],
   "source": [
    "from google.colab import drive\n",
    "drive.mount('/content/drive')\n",
    "!ls"
   ]
  },
  {
   "cell_type": "code",
   "execution_count": 2,
   "metadata": {
    "colab": {
     "base_uri": "https://localhost:8080/",
     "height": 85
    },
    "colab_type": "code",
    "id": "zV7UDX6B3q7P",
    "outputId": "75e6921b-9cdd-453e-c8ef-bff4bbd548ed"
   },
   "outputs": [
    {
     "name": "stdout",
     "output_type": "stream",
     "text": [
      "crop_train.h5\tpre2.png\t SRCNN_check.h5      train_rgb.h5\n",
      "flower.png\tprepare_data.py  SRCNN_check_rgb.h5\n",
      "input2.png\tpre_rgb.png\t test.h5\n",
      "input2_rgb.png\t__pycache__\t test_rgb.h5\n"
     ]
    }
   ],
   "source": [
    "import os \n",
    "os.chdir(\"/content/drive/My Drive/Image_super_resolution/github_implementation\")\n",
    "os.getcwd()\n",
    "!ls"
   ]
  },
  {
   "cell_type": "code",
   "execution_count": 3,
   "metadata": {
    "colab": {
     "base_uri": "https://localhost:8080/",
     "height": 80
    },
    "colab_type": "code",
    "id": "Zk6-ZqmZ4bTg",
    "outputId": "1cbe1b14-2028-42d8-f2d7-6c3b79ba931a"
   },
   "outputs": [
    {
     "name": "stderr",
     "output_type": "stream",
     "text": [
      "Using TensorFlow backend.\n"
     ]
    },
    {
     "data": {
      "text/html": [
       "<p style=\"color: red;\">\n",
       "The default version of TensorFlow in Colab will soon switch to TensorFlow 2.x.<br>\n",
       "We recommend you <a href=\"https://www.tensorflow.org/guide/migrate\" target=\"_blank\">upgrade</a> now \n",
       "or ensure your notebook will continue to use TensorFlow 1.x via the <code>%tensorflow_version 1.x</code> magic:\n",
       "<a href=\"https://colab.research.google.com/notebooks/tensorflow_version.ipynb\" target=\"_blank\">more info</a>.</p>\n"
      ],
      "text/plain": [
       "<IPython.core.display.HTML object>"
      ]
     },
     "metadata": {
      "tags": []
     },
     "output_type": "display_data"
    }
   ],
   "source": [
    "from keras.models import Sequential\n",
    "from keras.layers import Conv2D, Input, BatchNormalization\n",
    "# from keras.layers.advanced_activations import LeakyReLU\n",
    "from keras.callbacks import ModelCheckpoint,Callback\n",
    "from keras.optimizers import SGD, Adam\n",
    "import matplotlib.pyplot as plt\n",
    "import matplotlib.image as mpimg\n",
    "import prepare_data as pd\n",
    "import numpy \n",
    "import math"
   ]
  },
  {
   "cell_type": "code",
   "execution_count": 4,
   "metadata": {
    "colab": {
     "base_uri": "https://localhost:8080/",
     "height": 236
    },
    "colab_type": "code",
    "id": "oo6F17dLx1El",
    "outputId": "6cfc1287-065e-4563-e6ee-2491e347c71e"
   },
   "outputs": [
    {
     "name": "stdout",
     "output_type": "stream",
     "text": [
      "(14901, 32, 32, 1) (14901, 20, 20, 1)\n",
      "(420, 32, 32, 1) (420, 20, 20, 1)\n"
     ]
    },
    {
     "data": {
      "image/png": "[encoded data removed]",
      "text/plain": [
       "<Figure size 432x288 with 2 Axes>"
      ]
     },
     "metadata": {
      "tags": []
     },
     "output_type": "display_data"
    }
   ],
   "source": [
    "\n",
    "%matplotlib inline\n",
    "data_rgb,label_rgb=pd.read_training_data(\"test_rgb.h5\")\n",
    "data,label=pd.read_training_data(\"crop_train.h5\")\n",
    "print(data.shape,label.shape)\n",
    "# print(data[0][0][0][0])\n",
    "data_img=data_rgb[5]\n",
    "label_img=label_rgb[5]\n",
    "data_rgb=data_rgb*255\n",
    "label_rgb=label_rgb*255\n",
    "fig,axes=plt.subplots(1,2)\n",
    "axes[0].imshow(data_img)\n",
    "axes[1].imshow(label_img)\n",
    "data_Y, label_Y = pd.read_training_data(\"./test.h5\")\n",
    "print(data_Y.shape,label_Y.shape)"
   ]
  },
  {
   "cell_type": "code",
   "execution_count": 0,
   "metadata": {
    "colab": {},
    "colab_type": "code",
    "id": "CzafFwFK6wiP"
   },
   "outputs": [],
   "source": [
    "def psnr(target, ref):\n",
    "    mse = numpy.mean( (target - ref) ** 2 )\n",
    "    PIXEL_MAX = 255.0\n",
    "    if mse == 0:\n",
    "        return 100\n",
    "    return 20 * math.log10(PIXEL_MAX / math.sqrt(mse))"
   ]
  },
  {
   "cell_type": "code",
   "execution_count": 0,
   "metadata": {
    "colab": {},
    "colab_type": "code",
    "id": "1g-jFwan61pN"
   },
   "outputs": [],
   "source": [
    "def model():\n",
    "    # lrelu = LeakyReLU(alpha=0.1)\n",
    "    SRCNN = Sequential()\n",
    "    SRCNN.add(Conv2D(nb_filter=128, nb_row=9, nb_col=9, init='glorot_uniform',\n",
    "                     activation='relu', border_mode='valid', bias=True, input_shape=(32, 32, 1)))\n",
    "    SRCNN.add(Conv2D(nb_filter=64, nb_row=3, nb_col=3, init='glorot_uniform',\n",
    "                     activation='relu', border_mode='same', bias=True))\n",
    "    # SRCNN.add(BatchNormalization())\n",
    "    SRCNN.add(Conv2D(nb_filter=1, nb_row=5, nb_col=5, init='glorot_uniform',\n",
    "                     activation='linear', border_mode='valid', bias=True))\n",
    "    adam = Adam(lr=0.0003)\n",
    "    SRCNN.compile(optimizer=adam, loss='mean_squared_error', metrics=['mean_squared_error'])\n",
    "    return SRCNN\n",
    "\n",
    "\n",
    "def predict_model():\n",
    "    # lrelu = LeakyReLU(alpha=0.1)\n",
    "    SRCNN = Sequential()\n",
    "    SRCNN.add(Conv2D(nb_filter=128, nb_row=9, nb_col=9, init='glorot_uniform',\n",
    "                     activation='relu', border_mode='valid', bias=True, input_shape=(None, None, 1)))\n",
    "    SRCNN.add(Conv2D(nb_filter=64, nb_row=3, nb_col=3, init='glorot_uniform',\n",
    "                     activation='relu', border_mode='same', bias=True))\n",
    "    # SRCNN.add(BatchNormalization())\n",
    "    SRCNN.add(Conv2D(nb_filter=1, nb_row=5, nb_col=5, init='glorot_uniform',\n",
    "                     activation='linear', border_mode='valid', bias=True))\n",
    "    adam = Adam(lr=0.0003)\n",
    "    SRCNN.compile(optimizer=adam, loss='mean_squared_error', metrics=['mean_squared_error'])\n",
    "    return SRCNN\n",
    "\n",
    "class PsnrHistory_Y(Callback):\n",
    "    def on_train_begin(self, logs={}):\n",
    "        self.psnrs = []\n",
    "        \n",
    "    def on_epoch_end(self, epoch, logs={}):\n",
    "        srcnn_model = predict_model()\n",
    "        srcnn_model.load_weights(\"SRCNN_check.h5\")\n",
    "        avg_psnr=0.0\n",
    "        import cv2\n",
    "        for i in range(0,data_Y.shape[0]):\n",
    "            img=data_Y[i]\n",
    "            Y = numpy.zeros((1, img.shape[0], img.shape[1], 1), dtype=float)\n",
    "            Y[0, :, :, :] = img\n",
    "            pre = srcnn_model.predict(Y, batch_size=1) * 255.\n",
    "            pre[pre[:] > 255] = 255\n",
    "            pre[pre[:] < 0] = 0\n",
    "            img_pre=pre[0,:,:,:]\n",
    "            avg_psnr=avg_psnr+psnr(label_Y[i]*255, img_pre)\n",
    "\n",
    "        avg_psnr=(avg_psnr/data_rgb.shape[0])\n",
    "        # avg_psnr2=0.0\n",
    "        # for i in range(0,data_rgb.shape[0]):\n",
    "        #     img = cv2.cvtColor(data_rgb[i], cv2.COLOR_BGR2YCrCb)\n",
    "        #     Y_img=data_Y[i]\n",
    "        #     Y = numpy.zeros((1, img.shape[0], img.shape[1], 1), dtype=float)\n",
    "        #     Y[0, :, :, :] = Y_img\n",
    "        #     pre = srcnn_model.predict(Y, batch_size=1) * 255.\n",
    "        #     pre[pre[:] > 255] = 255\n",
    "        #     pre[pre[:] < 0] = 0\n",
    "        #     img=img[6: -6, 6: -6,:]\n",
    "        #     img[:,:,0]=pre[0,:,:,0]\n",
    "        #     img=cv2.cvtColor(img, cv2.COLOR_YCrCb2BGR)\n",
    "        #     avg_psnr2=avg_psnr2+psnr(label_rgb[i]*255, img)\n",
    "        \n",
    "        # avg_psnr2=(avg_psnr2/data_rgb.shape[0])\n",
    "        \n",
    "        self.psnrs.append((avg_psnr))\n",
    "\n",
    "\n",
    "def train(history):\n",
    "    srcnn_model = model()\n",
    "    print(srcnn_model.summary())\n",
    "    data, label = pd.read_training_data(\"./crop_train.h5\")\n",
    "    val_data, val_label = pd.read_training_data(\"./test.h5\")\n",
    "\n",
    "    checkpoint = ModelCheckpoint(\"SRCNN_check.h5\", monitor='val_loss', verbose=1, save_best_only=True,\n",
    "                                 save_weights_only=False, mode='min')\n",
    "    callbacks_list = [checkpoint,history]\n",
    "\n",
    "    srcnn_model.fit(data, label, batch_size=128, validation_data=(val_data, val_label),\n",
    "                    callbacks=callbacks_list, shuffle=True, nb_epoch=20, verbose=0)\n",
    "    # srcnn_model.load_weights(\"m_model_adam.h5\")"
   ]
  },
  {
   "cell_type": "code",
   "execution_count": 0,
   "metadata": {
    "colab": {},
    "colab_type": "code",
    "id": "-UKuNV-s69im"
   },
   "outputs": [],
   "source": [
    "def predict():\n",
    "    srcnn_model = predict_model()\n",
    "    srcnn_model.load_weights(\"SRCNN_check.h5\")\n",
    "    IMG_NAME = \"flower.png\"\n",
    "    INPUT_NAME = \"input2.png\"\n",
    "    OUTPUT_NAME = \"pre2.png\"\n",
    "\n",
    "    import cv2\n",
    "    img = cv2.imread(IMG_NAME, cv2.IMREAD_COLOR)\n",
    "    img = cv2.cvtColor(img, cv2.COLOR_BGR2YCrCb)\n",
    "    shape = img.shape\n",
    "    Y_img = cv2.resize(img[:, :, 0], (int(shape[1] / 2), int(shape[0] / 2)), cv2.INTER_CUBIC)\n",
    "    Y_img = cv2.resize(Y_img, (shape[1], shape[0]), cv2.INTER_CUBIC)\n",
    "    print(img.shape,Y_img.shape)\n",
    "    img[:, :, 0] = Y_img\n",
    "    Y_img=img[:,:,0]\n",
    "    img = cv2.cvtColor(img, cv2.COLOR_YCrCb2BGR)\n",
    "    cv2.imwrite(INPUT_NAME, img)\n",
    "\n",
    "    Y = numpy.zeros((1, img.shape[0], img.shape[1], 1), dtype=float)\n",
    "    Y[0, :, :, 0] = Y_img.astype(float) / 255.\n",
    "    pre = srcnn_model.predict(Y, batch_size=1) * 255.\n",
    "    print(pre.shape)\n",
    "    pre[pre[:] > 255] = 255\n",
    "    pre[pre[:] < 0] = 0\n",
    "    pre = pre.astype(numpy.uint8)\n",
    "    img = cv2.cvtColor(img, cv2.COLOR_BGR2YCrCb)\n",
    "    img[6: -6, 6: -6, 0] = pre[0, :, :, 0]\n",
    "    img = cv2.cvtColor(img, cv2.COLOR_YCrCb2BGR)\n",
    "    print(img.shape)\n",
    "    cv2.imwrite(OUTPUT_NAME, img)\n",
    "\n",
    "    # psnr calculation:\n",
    "    im1_rgb = cv2.imread(IMG_NAME, cv2.IMREAD_COLOR)[6: -6, 6: -6, :]\n",
    "    im1_Y = cv2.cvtColor(im1_rgb, cv2.COLOR_BGR2YCrCb)\n",
    "    im2_rgb = cv2.imread(INPUT_NAME, cv2.IMREAD_COLOR)[6: -6, 6: -6, :]\n",
    "    im2_Y = cv2.cvtColor(im2_rgb, cv2.COLOR_BGR2YCrCb)\n",
    "    im3_rgb = cv2.imread(OUTPUT_NAME, cv2.IMREAD_COLOR)[6: -6, 6: -6, :]\n",
    "    im3_Y = cv2.cvtColor(im3_rgb, cv2.COLOR_BGR2YCrCb)\n",
    "    print(im3_Y.shape,im1_Y.shape)\n",
    "    print(\"bicubic:\")\n",
    "    print(\"YCrCCb= {} , RGB={}\".format(psnr(im1_Y[:,:,0],im2_Y[:,:,0]),psnr(im1_rgb,im2_rgb)))\n",
    "    print(\"SRCNN:\")\n",
    "    print(\"YCrCCb= {} , RGB={}\".format(psnr(im1_Y[:,:,0],im3_Y[:,:,0]),psnr(im1_rgb,im3_rgb)))\n",
    "\n",
    "    # srcnn_model = predict_model()\n",
    "    # srcnn_model.load_weights(\"SRCNN_check.h5\")\n",
    "    # avg_psnr=0.0\n",
    "    # for i in range(0,data_Y.shape[0]):\n",
    "    #     img=data_Y[i]\n",
    "    #     Y = numpy.zeros((1, img.shape[0], img.shape[1], 1), dtype=float)\n",
    "    #     Y[0, :, :, :] = img\n",
    "    #     pre = srcnn_model.predict(Y, batch_size=1) * 255.\n",
    "    #     pre[pre[:] > 255] = 255\n",
    "    #     pre[pre[:] < 0] = 0\n",
    "    #     img_pre=pre[0,:,:,:]\n",
    "    #     avg_psnr=avg_psnr+psnr(label_Y[i]*255, img_pre)\n",
    "\n",
    "    # avg_psnr=(avg_psnr/data_rgb.shape[0])\n",
    "    # print(avg_psnr)"
   ]
  },
  {
   "cell_type": "code",
   "execution_count": 0,
   "metadata": {
    "colab": {
     "base_uri": "https://localhost:8080/",
     "height": 1000
    },
    "colab_type": "code",
    "id": "G0EjckXcwdTG",
    "outputId": "9ca88601-0b5e-443b-9eb2-03ee3f7feeb0"
   },
   "outputs": [
    {
     "name": "stderr",
     "output_type": "stream",
     "text": [
      "/usr/local/lib/python3.6/dist-packages/ipykernel_launcher.py:5: UserWarning: Update your `Conv2D` call to the Keras 2 API: `Conv2D(activation=\"relu\", input_shape=(32, 32, 1..., kernel_size=(9, 9), filters=128, padding=\"valid\", kernel_initializer=\"glorot_uniform\", use_bias=True)`\n",
      "  \"\"\"\n",
      "/usr/local/lib/python3.6/dist-packages/ipykernel_launcher.py:7: UserWarning: Update your `Conv2D` call to the Keras 2 API: `Conv2D(activation=\"relu\", kernel_size=(3, 3), filters=64, padding=\"same\", kernel_initializer=\"glorot_uniform\", use_bias=True)`\n",
      "  import sys\n",
      "/usr/local/lib/python3.6/dist-packages/ipykernel_launcher.py:10: UserWarning: Update your `Conv2D` call to the Keras 2 API: `Conv2D(activation=\"linear\", kernel_size=(5, 5), filters=1, padding=\"valid\", kernel_initializer=\"glorot_uniform\", use_bias=True)`\n",
      "  # Remove the CWD from sys.path while we load stuff.\n"
     ]
    },
    {
     "name": "stdout",
     "output_type": "stream",
     "text": [
      "Model: \"sequential_2\"\n",
      "_________________________________________________________________\n",
      "Layer (type)                 Output Shape              Param #   \n",
      "=================================================================\n",
      "conv2d_4 (Conv2D)            (None, 24, 24, 128)       10496     \n",
      "_________________________________________________________________\n",
      "conv2d_5 (Conv2D)            (None, 24, 24, 64)        73792     \n",
      "_________________________________________________________________\n",
      "conv2d_6 (Conv2D)            (None, 20, 20, 1)         1601      \n",
      "=================================================================\n",
      "Total params: 85,889\n",
      "Trainable params: 85,889\n",
      "Non-trainable params: 0\n",
      "_________________________________________________________________\n",
      "None\n"
     ]
    },
    {
     "name": "stderr",
     "output_type": "stream",
     "text": [
      "/usr/local/lib/python3.6/dist-packages/ipykernel_launcher.py:80: UserWarning: The `nb_epoch` argument in `fit` has been renamed `epochs`.\n"
     ]
    },
    {
     "name": "stdout",
     "output_type": "stream",
     "text": [
      "\n",
      "Epoch 00001: val_loss improved from inf to 0.00301, saving model to SRCNN_check.h5\n"
     ]
    },
    {
     "name": "stderr",
     "output_type": "stream",
     "text": [
      "/usr/local/lib/python3.6/dist-packages/ipykernel_launcher.py:20: UserWarning: Update your `Conv2D` call to the Keras 2 API: `Conv2D(activation=\"relu\", input_shape=(None, Non..., kernel_size=(9, 9), filters=128, padding=\"valid\", kernel_initializer=\"glorot_uniform\", use_bias=True)`\n",
      "/usr/local/lib/python3.6/dist-packages/ipykernel_launcher.py:22: UserWarning: Update your `Conv2D` call to the Keras 2 API: `Conv2D(activation=\"relu\", kernel_size=(3, 3), filters=64, padding=\"same\", kernel_initializer=\"glorot_uniform\", use_bias=True)`\n",
      "/usr/local/lib/python3.6/dist-packages/ipykernel_launcher.py:25: UserWarning: Update your `Conv2D` call to the Keras 2 API: `Conv2D(activation=\"linear\", kernel_size=(5, 5), filters=1, padding=\"valid\", kernel_initializer=\"glorot_uniform\", use_bias=True)`\n"
     ]
    },
    {
     "name": "stdout",
     "output_type": "stream",
     "text": [
      "\n",
      "Epoch 00002: val_loss improved from 0.00301 to 0.00214, saving model to SRCNN_check.h5\n",
      "\n",
      "Epoch 00003: val_loss improved from 0.00214 to 0.00182, saving model to SRCNN_check.h5\n",
      "\n",
      "Epoch 00004: val_loss improved from 0.00182 to 0.00172, saving model to SRCNN_check.h5\n",
      "\n",
      "Epoch 00005: val_loss improved from 0.00172 to 0.00168, saving model to SRCNN_check.h5\n",
      "\n",
      "Epoch 00006: val_loss improved from 0.00168 to 0.00163, saving model to SRCNN_check.h5\n",
      "\n",
      "Epoch 00007: val_loss did not improve from 0.00163\n",
      "\n",
      "Epoch 00008: val_loss improved from 0.00163 to 0.00161, saving model to SRCNN_check.h5\n",
      "\n",
      "Epoch 00009: val_loss did not improve from 0.00161\n",
      "\n",
      "Epoch 00010: val_loss improved from 0.00161 to 0.00160, saving model to SRCNN_check.h5\n",
      "\n",
      "Epoch 00011: val_loss improved from 0.00160 to 0.00158, saving model to SRCNN_check.h5\n",
      "\n",
      "Epoch 00012: val_loss improved from 0.00158 to 0.00158, saving model to SRCNN_check.h5\n",
      "\n",
      "Epoch 00013: val_loss improved from 0.00158 to 0.00157, saving model to SRCNN_check.h5\n",
      "\n",
      "Epoch 00014: val_loss improved from 0.00157 to 0.00156, saving model to SRCNN_check.h5\n",
      "\n",
      "Epoch 00015: val_loss improved from 0.00156 to 0.00155, saving model to SRCNN_check.h5\n",
      "\n",
      "Epoch 00016: val_loss did not improve from 0.00155\n",
      "\n",
      "Epoch 00017: val_loss did not improve from 0.00155\n",
      "\n",
      "Epoch 00018: val_loss improved from 0.00155 to 0.00154, saving model to SRCNN_check.h5\n",
      "\n",
      "Epoch 00019: val_loss did not improve from 0.00154\n",
      "\n",
      "Epoch 00020: val_loss improved from 0.00154 to 0.00152, saving model to SRCNN_check.h5\n",
      "[29.828293294126155, 31.921416703070218, 32.364694263524235, 32.26413701633029, 32.12466122727683, 33.06250036949306, 33.06250036949306, 32.748881972828386, 32.748881972828386, 32.80245311459386, 32.52084089707725, 32.90543216359537, 32.91181204026416, 33.17629527752549, 32.55647183374128, 32.55647183374128, 32.55647183374128, 32.98428283012999, 32.98428283012999, 32.727667739748846]\n"
     ]
    }
   ],
   "source": [
    "history_Y=PsnrHistory_Y()\n",
    "train(history_Y)\n",
    "print(history_Y.psnrs)"
   ]
  },
  {
   "cell_type": "code",
   "execution_count": 0,
   "metadata": {
    "colab": {
     "base_uri": "https://localhost:8080/",
     "height": 336
    },
    "colab_type": "code",
    "id": "87FeW85u8L7c",
    "outputId": "780a0462-94bf-40e4-ed9a-44d70ee4a612"
   },
   "outputs": [
    {
     "name": "stdout",
     "output_type": "stream",
     "text": [
      "[29.828293294126155, 31.921416703070218, 32.364694263524235, 32.26413701633029, 32.12466122727683, 33.06250036949306, 33.06250036949306, 32.748881972828386, 32.748881972828386, 32.80245311459386, 32.52084089707725, 32.90543216359537, 32.91181204026416, 33.17629527752549, 32.55647183374128, 32.55647183374128, 32.55647183374128, 32.98428283012999, 32.98428283012999, 32.727667739748846]\n",
      "(20,) (20,)\n"
     ]
    },
    {
     "data": {
      "text/plain": [
       "[<matplotlib.lines.Line2D at 0x7f4471b93ac8>]"
      ]
     },
     "execution_count": 23,
     "metadata": {
      "tags": []
     },
     "output_type": "execute_result"
    },
    {
     "data": {
      "image/png": "[encoded data removed]",
      "text/plain": [
       "<Figure size 432x288 with 1 Axes>"
      ]
     },
     "metadata": {
      "tags": []
     },
     "output_type": "display_data"
    }
   ],
   "source": [
    "print(history_Y.psnrs)\n",
    "x=numpy.linspace(1,len(history_Y.psnrs),len(history_Y.psnrs))\n",
    "y = numpy.asarray(history_Y.psnrs, dtype=numpy.float32)\n",
    "print(x.shape,y.shape)\n",
    "plt.plot(x,history_Y.psnrs)"
   ]
  },
  {
   "cell_type": "code",
   "execution_count": 9,
   "metadata": {
    "colab": {
     "base_uri": "https://localhost:8080/",
     "height": 564
    },
    "colab_type": "code",
    "id": "58XNJ9mMDjF8",
    "outputId": "11eb0553-0e0c-4d29-dd21-d05c11fc39b7"
   },
   "outputs": [
    {
     "name": "stdout",
     "output_type": "stream",
     "text": [
      "WARNING:tensorflow:From /usr/local/lib/python3.6/dist-packages/keras/backend/tensorflow_backend.py:66: The name tf.get_default_graph is deprecated. Please use tf.compat.v1.get_default_graph instead.\n",
      "\n",
      "WARNING:tensorflow:From /usr/local/lib/python3.6/dist-packages/keras/backend/tensorflow_backend.py:541: The name tf.placeholder is deprecated. Please use tf.compat.v1.placeholder instead.\n",
      "\n",
      "WARNING:tensorflow:From /usr/local/lib/python3.6/dist-packages/keras/backend/tensorflow_backend.py:4432: The name tf.random_uniform is deprecated. Please use tf.random.uniform instead.\n",
      "\n",
      "WARNING:tensorflow:From /usr/local/lib/python3.6/dist-packages/keras/optimizers.py:793: The name tf.train.Optimizer is deprecated. Please use tf.compat.v1.train.Optimizer instead.\n",
      "\n"
     ]
    },
    {
     "name": "stderr",
     "output_type": "stream",
     "text": [
      "/usr/local/lib/python3.6/dist-packages/ipykernel_launcher.py:20: UserWarning: Update your `Conv2D` call to the Keras 2 API: `Conv2D(activation=\"relu\", input_shape=(None, Non..., kernel_size=(9, 9), filters=128, padding=\"valid\", kernel_initializer=\"glorot_uniform\", use_bias=True)`\n",
      "/usr/local/lib/python3.6/dist-packages/ipykernel_launcher.py:22: UserWarning: Update your `Conv2D` call to the Keras 2 API: `Conv2D(activation=\"relu\", kernel_size=(3, 3), filters=64, padding=\"same\", kernel_initializer=\"glorot_uniform\", use_bias=True)`\n",
      "/usr/local/lib/python3.6/dist-packages/ipykernel_launcher.py:25: UserWarning: Update your `Conv2D` call to the Keras 2 API: `Conv2D(activation=\"linear\", kernel_size=(5, 5), filters=1, padding=\"valid\", kernel_initializer=\"glorot_uniform\", use_bias=True)`\n"
     ]
    },
    {
     "name": "stdout",
     "output_type": "stream",
     "text": [
      "WARNING:tensorflow:From /usr/local/lib/python3.6/dist-packages/keras/backend/tensorflow_backend.py:190: The name tf.get_default_session is deprecated. Please use tf.compat.v1.get_default_session instead.\n",
      "\n",
      "WARNING:tensorflow:From /usr/local/lib/python3.6/dist-packages/keras/backend/tensorflow_backend.py:197: The name tf.ConfigProto is deprecated. Please use tf.compat.v1.ConfigProto instead.\n",
      "\n",
      "WARNING:tensorflow:From /usr/local/lib/python3.6/dist-packages/keras/backend/tensorflow_backend.py:203: The name tf.Session is deprecated. Please use tf.compat.v1.Session instead.\n",
      "\n",
      "WARNING:tensorflow:From /usr/local/lib/python3.6/dist-packages/keras/backend/tensorflow_backend.py:207: The name tf.global_variables is deprecated. Please use tf.compat.v1.global_variables instead.\n",
      "\n",
      "WARNING:tensorflow:From /usr/local/lib/python3.6/dist-packages/keras/backend/tensorflow_backend.py:216: The name tf.is_variable_initialized is deprecated. Please use tf.compat.v1.is_variable_initialized instead.\n",
      "\n",
      "WARNING:tensorflow:From /usr/local/lib/python3.6/dist-packages/keras/backend/tensorflow_backend.py:223: The name tf.variables_initializer is deprecated. Please use tf.compat.v1.variables_initializer instead.\n",
      "\n",
      "(276, 276, 3) (276, 276)\n",
      "(1, 264, 264, 1)\n",
      "(276, 276, 3)\n",
      "(264, 264, 3) (264, 264, 3)\n",
      "bicubic:\n",
      "YCrCCb= 33.58214074570319 , RGB=33.57164752219919\n",
      "SRCNN:\n",
      "YCrCCb= 34.127883222498184 , RGB=34.090037405103104\n"
     ]
    }
   ],
   "source": [
    "predict()"
   ]
  },
  {
   "cell_type": "code",
   "execution_count": 0,
   "metadata": {
    "colab": {},
    "colab_type": "code",
    "id": "MXCPYnz3Kxx-"
   },
   "outputs": [],
   "source": [
    "\n",
    "def predict_model_rgb():\n",
    "    SRCNN = Sequential()\n",
    "    SRCNN.add(Conv2D(filters=128, kernel_size=(9,9), kernel_initializer='glorot_uniform',\n",
    "                     activation='relu', padding='valid', use_bias=True, input_shape=(None, None, 3)))\n",
    "    SRCNN.add(Conv2D(filters=64, kernel_size=(3,3), kernel_initializer='glorot_uniform',\n",
    "                     activation='relu', padding='same', use_bias=True))\n",
    "    SRCNN.add(Conv2D(filters=3, kernel_size=(5,5), kernel_initializer='glorot_uniform',\n",
    "                     activation='linear', padding='valid', use_bias=True))\n",
    "    adam = Adam(lr=0.0003)\n",
    "    SRCNN.compile(optimizer=adam, loss='mean_squared_error', metrics=['mean_squared_error'])\n",
    "    return SRCNN\n",
    "\n",
    "\n",
    "def model_rgb():\n",
    "    SRCNN = Sequential()\n",
    "    SRCNN.add(Conv2D(filters=128, kernel_size=(9,9), kernel_initializer='glorot_uniform',\n",
    "                     activation='relu', padding='valid', use_bias=True, input_shape=(32, 32, 3)))\n",
    "    SRCNN.add(Conv2D(filters=64, kernel_size=(3,3), kernel_initializer='glorot_uniform',\n",
    "                     activation='relu', padding='same', use_bias=True))\n",
    "    SRCNN.add(Conv2D(filters=3, kernel_size=(5,5), kernel_initializer='glorot_uniform',\n",
    "                     activation='linear', padding='valid', use_bias=True))\n",
    "    adam = Adam(lr=0.0003)\n",
    "    SRCNN.compile(optimizer=adam, loss='mean_squared_error', metrics=['mean_squared_error'])\n",
    "    return SRCNN\n",
    "\n",
    "class PsnrHistory(Callback):\n",
    "    def on_train_begin(self, logs={}):\n",
    "        self.psnrs = []\n",
    "        \n",
    "    def on_epoch_end(self, epoch, logs={}):\n",
    "        rmse = math.sqrt(logs['val_loss'])\n",
    "        psnr2=20 * math.log10(1/rmse)\n",
    "        srcnn_model = predict_model_rgb()\n",
    "        srcnn_model.load_weights(\"SRCNN_check_rgb.h5\")\n",
    "        avg_psnr=0.0\n",
    "        for i in range(0,data_rgb.shape[0]):\n",
    "            img=data_rgb[i]\n",
    "            Y = numpy.zeros((1, img.shape[0], img.shape[1], 3), dtype=float)\n",
    "            Y[0, :, :, :] = img\n",
    "            pre = srcnn_model.predict(Y, batch_size=1) * 255.\n",
    "            pre[pre[:] > 255] = 255\n",
    "            pre[pre[:] < 0] = 0\n",
    "            img_pre=pre[0,:,:,:]\n",
    "            avg_psnr=avg_psnr+psnr(label_rgb[i]*255, img_pre)\n",
    "        \n",
    "        avg_psnr=(avg_psnr/data_rgb.shape[0])\n",
    "        self.psnrs.append(avg_psnr)\n",
    "\n",
    "def train_rgb(history):\n",
    "    srcnn_model = model_rgb()\n",
    "    print(srcnn_model.summary())\n",
    "    data, label = pd.read_training_data(\"./train_rgb.h5\")\n",
    "    val_data, val_label = pd.read_training_data(\"./test_rgb.h5\")\n",
    "\n",
    "    checkpoint = ModelCheckpoint(\"SRCNN_check_rgb.h5\", monitor='val_loss', verbose=1, save_best_only=True,\n",
    "                                 save_weights_only=False, mode='min')\n",
    "    callbacks_list = [checkpoint,history]\n",
    "\n",
    "    srcnn_model.fit(data, label, batch_size=128, validation_data=(val_data, val_label),\n",
    "                    callbacks=callbacks_list, shuffle=True, epochs=20, verbose=0)\n",
    "    return history\n",
    "    # srcnn_model.load_weights(\"m_model_adam.h5\")\n"
   ]
  },
  {
   "cell_type": "code",
   "execution_count": 14,
   "metadata": {
    "colab": {
     "base_uri": "https://localhost:8080/",
     "height": 989
    },
    "colab_type": "code",
    "id": "Wgk_4B4Lm90L",
    "outputId": "f9c501ac-123d-494b-cba3-2898d957ef92"
   },
   "outputs": [
    {
     "name": "stdout",
     "output_type": "stream",
     "text": [
      "Model: \"sequential_4\"\n",
      "_________________________________________________________________\n",
      "Layer (type)                 Output Shape              Param #   \n",
      "=================================================================\n",
      "conv2d_10 (Conv2D)           (None, 24, 24, 128)       31232     \n",
      "_________________________________________________________________\n",
      "conv2d_11 (Conv2D)           (None, 24, 24, 64)        73792     \n",
      "_________________________________________________________________\n",
      "conv2d_12 (Conv2D)           (None, 20, 20, 3)         4803      \n",
      "=================================================================\n",
      "Total params: 109,827\n",
      "Trainable params: 109,827\n",
      "Non-trainable params: 0\n",
      "_________________________________________________________________\n",
      "None\n",
      "\n",
      "Epoch 00001: val_loss improved from inf to 0.00358, saving model to SRCNN_check_rgb.h5\n",
      "\n",
      "Epoch 00002: val_loss improved from 0.00358 to 0.00257, saving model to SRCNN_check_rgb.h5\n",
      "\n",
      "Epoch 00003: val_loss improved from 0.00257 to 0.00229, saving model to SRCNN_check_rgb.h5\n",
      "\n",
      "Epoch 00004: val_loss improved from 0.00229 to 0.00207, saving model to SRCNN_check_rgb.h5\n",
      "\n",
      "Epoch 00005: val_loss improved from 0.00207 to 0.00205, saving model to SRCNN_check_rgb.h5\n",
      "\n",
      "Epoch 00006: val_loss improved from 0.00205 to 0.00192, saving model to SRCNN_check_rgb.h5\n",
      "\n",
      "Epoch 00007: val_loss improved from 0.00192 to 0.00186, saving model to SRCNN_check_rgb.h5\n",
      "\n",
      "Epoch 00008: val_loss did not improve from 0.00186\n",
      "\n",
      "Epoch 00009: val_loss improved from 0.00186 to 0.00181, saving model to SRCNN_check_rgb.h5\n",
      "\n",
      "Epoch 00010: val_loss did not improve from 0.00181\n",
      "\n",
      "Epoch 00011: val_loss improved from 0.00181 to 0.00178, saving model to SRCNN_check_rgb.h5\n",
      "\n",
      "Epoch 00012: val_loss improved from 0.00178 to 0.00177, saving model to SRCNN_check_rgb.h5\n",
      "\n",
      "Epoch 00013: val_loss did not improve from 0.00177\n",
      "\n",
      "Epoch 00014: val_loss improved from 0.00177 to 0.00175, saving model to SRCNN_check_rgb.h5\n",
      "\n",
      "Epoch 00015: val_loss improved from 0.00175 to 0.00174, saving model to SRCNN_check_rgb.h5\n",
      "\n",
      "Epoch 00016: val_loss did not improve from 0.00174\n",
      "\n",
      "Epoch 00017: val_loss did not improve from 0.00174\n",
      "\n",
      "Epoch 00018: val_loss did not improve from 0.00174\n",
      "\n",
      "Epoch 00019: val_loss improved from 0.00174 to 0.00173, saving model to SRCNN_check_rgb.h5\n",
      "\n",
      "Epoch 00020: val_loss improved from 0.00173 to 0.00170, saving model to SRCNN_check_rgb.h5\n",
      "[-41.01226090613216, -41.01215780805693, -41.012145355448126, -41.012148849925524, -41.01215038972374, -41.01214724103579, -41.012151257312325, -41.012151257312325, -41.01214256341378, -41.01214256341378, -41.012143949089875, -41.012156382906944, -41.012156382906944, -41.012168573378865, -41.01215770294366, -41.01215770294366, -41.01215770294366, -41.01215770294366, -41.01214620883338, -41.012146379906994]\n"
     ]
    }
   ],
   "source": [
    "history=PsnrHistory()\n",
    "train_rgb(history)\n",
    "print(history.psnrs)"
   ]
  },
  {
   "cell_type": "code",
   "execution_count": 0,
   "metadata": {
    "colab": {},
    "colab_type": "code",
    "id": "ChaRMznRAtgt"
   },
   "outputs": [],
   "source": [
    "def predict_rgb():\n",
    "    srcnn_model = predict_model_rgb()\n",
    "    srcnn_model.load_weights(\"SRCNN_check_rgb.h5\")\n",
    "    IMG_NAME = \"flower.png\"\n",
    "    INPUT_NAME = \"input2_rgb.png\"\n",
    "    OUTPUT_NAME = \"pre_rgb.png\"\n",
    "\n",
    "    import cv2\n",
    "    img = cv2.imread(IMG_NAME, cv2.IMREAD_COLOR)\n",
    "    shape = img.shape\n",
    "    Y_img = cv2.resize(img[:, :, :], (int(shape[1] / 2), int(shape[0] / 2)), cv2.INTER_CUBIC)\n",
    "    Y_img = cv2.resize(Y_img, (shape[1], shape[0]), cv2.INTER_CUBIC)\n",
    "    img=Y_img\n",
    "    print(Y_img.shape)\n",
    "    cv2.imwrite(INPUT_NAME, Y_img)\n",
    "\n",
    "    Y = numpy.zeros((1, img.shape[0], img.shape[1], 3), dtype=float)\n",
    "    Y[0, :, :, :] = Y_img.astype(float) / 255.\n",
    "    pre = srcnn_model.predict(Y, batch_size=1) * 255.\n",
    "    pre[pre[:] > 255] = 255\n",
    "    pre[pre[:] < 0] = 0\n",
    "    pre = pre.astype(numpy.uint8)\n",
    "    img[6: -6, 6: -6,:]=pre[0,:,:,:]\n",
    "    print(img.shape)\n",
    "    cv2.imwrite(OUTPUT_NAME, img)\n",
    "\n",
    "\n",
    "    # psnr calculation:\n",
    "    im1_rgb = cv2.imread(IMG_NAME, cv2.IMREAD_COLOR)[6: -6, 6: -6]\n",
    "    im1_Y = cv2.cvtColor(im1_rgb, cv2.COLOR_BGR2YCrCb)\n",
    "    im2_rgb = cv2.imread(INPUT_NAME, cv2.IMREAD_COLOR)[6: -6, 6: -6]\n",
    "    im2_Y = cv2.cvtColor(im2_rgb, cv2.COLOR_BGR2YCrCb)\n",
    "    im3_rgb = cv2.imread(OUTPUT_NAME, cv2.IMREAD_COLOR)[6: -6, 6: -6]\n",
    "    im3_Y = cv2.cvtColor(im3_rgb, cv2.COLOR_BGR2YCrCb)\n",
    "\n",
    "    print(im1_Y.shape,im2_Y.shape)\n",
    "    print(\"bicubic:\")\n",
    "    print(\"YCrCCb= {} , RGB={}\".format(psnr(im1_Y[:,:,0],im2_Y[:,:,0]),psnr(im1_rgb,im2_rgb)))\n",
    "    print(\"SRCNN:\")\n",
    "    print(\"YCrCCb= {} , RGB={}\".format(psnr(im1_Y[:,:,0],im3_Y[:,:,0]),psnr(im1_rgb,im3_rgb)))"
   ]
  },
  {
   "cell_type": "code",
   "execution_count": 16,
   "metadata": {
    "colab": {
     "base_uri": "https://localhost:8080/",
     "height": 310
    },
    "colab_type": "code",
    "id": "hKLiD2UAHALF",
    "outputId": "2c227208-1932-4194-d2ff-ffff09255a43"
   },
   "outputs": [
    {
     "name": "stdout",
     "output_type": "stream",
     "text": [
      "1.0 (20,)\n"
     ]
    },
    {
     "data": {
      "text/plain": [
       "[<matplotlib.lines.Line2D at 0x7f58d3b726a0>]"
      ]
     },
     "execution_count": 16,
     "metadata": {
      "tags": []
     },
     "output_type": "execute_result"
    },
    {
     "data": {
      "image/png": "[encoded data removed]",
      "text/plain": [
       "<Figure size 432x288 with 1 Axes>"
      ]
     },
     "metadata": {
      "tags": []
     },
     "output_type": "display_data"
    }
   ],
   "source": [
    "x=numpy.linspace(1,len(history.psnrs),len(history.psnrs))\n",
    "y = numpy.asarray(history.psnrs, dtype=numpy.float32)\n",
    "print(x[0],y.shape)\n",
    "plt.plot(x,history.psnrs)"
   ]
  },
  {
   "cell_type": "code",
   "execution_count": 17,
   "metadata": {
    "colab": {
     "base_uri": "https://localhost:8080/",
     "height": 136
    },
    "colab_type": "code",
    "id": "nc6-ayWYUpAI",
    "outputId": "ee49c0df-543f-4b6d-ed21-7d761b4fc8c3"
   },
   "outputs": [
    {
     "name": "stdout",
     "output_type": "stream",
     "text": [
      "(276, 276, 3)\n",
      "(276, 276, 3)\n",
      "(264, 264, 3) (264, 264, 3)\n",
      "bicubic:\n",
      "YCrCCb= 33.577765973062625 , RGB=32.56036165104796\n",
      "SRCNN:\n",
      "YCrCCb= 34.23617820201293 , RGB=32.85338706007269\n"
     ]
    }
   ],
   "source": [
    "predict_rgb()\n",
    "\n"
   ]
  }
 ],
 "metadata": {
  "colab": {
   "collapsed_sections": [],
   "name": "Image_super_resolution_github.ipynb",
   "provenance": []
  },
  "kernelspec": {
   "display_name": "Python 3",
   "language": "python",
   "name": "python3"
  },
  "language_info": {
   "codemirror_mode": {
    "name": "ipython",
    "version": 3
   },
   "file_extension": ".py",
   "mimetype": "text/x-python",
   "name": "python",
   "nbconvert_exporter": "python",
   "pygments_lexer": "ipython3",
   "version": "3.7.6"
  }
 },
 "nbformat": 4,
 "nbformat_minor": 1
}
